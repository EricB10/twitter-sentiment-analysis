{
 "cells": [
  {
   "cell_type": "markdown",
   "metadata": {},
   "source": [
    "# Imports"
   ]
  },
  {
   "cell_type": "code",
   "execution_count": 86,
   "metadata": {},
   "outputs": [],
   "source": [
    "import numpy as np\n",
    "import pandas as pd\n",
    "import itertools\n",
    "\n",
    "import gzip\n",
    "import pickle\n",
    "\n",
    "\n",
    "from sklearn.model_selection import train_test_split\n",
    "\n",
    "from sklearn.preprocessing import MinMaxScaler\n",
    "from sklearn.preprocessing import StandardScaler\n",
    "\n",
    "from sklearn.naive_bayes import BernoulliNB\n",
    "from sklearn.naive_bayes import MultinomialNB\n",
    "\n",
    "from sklearn.tree import DecisionTreeClassifier\n",
    "\n",
    "from sklearn.metrics import accuracy_score\n",
    "from sklearn.metrics import precision_score\n",
    "from sklearn.metrics import f1_score\n",
    "from sklearn.metrics import confusion_matrix\n",
    "\n",
    "\n",
    "import matplotlib\n",
    "import matplotlib.pyplot as plt\n",
    "%matplotlib inline\n",
    "import seaborn as sns\n",
    "sns.set_style('ticks')"
   ]
  },
  {
   "cell_type": "code",
   "execution_count": 2,
   "metadata": {},
   "outputs": [
    {
     "name": "stderr",
     "output_type": "stream",
     "text": [
      "/Users/eric/opt/anaconda3/lib/python3.7/site-packages/IPython/core/interactiveshell.py:3063: DtypeWarning: Columns (15) have mixed types.Specify dtype option on import or set low_memory=False.\n",
      "  interactivity=interactivity, compiler=compiler, result=result)\n"
     ]
    },
    {
     "data": {
      "text/plain": [
       "(575949, 32)"
      ]
     },
     "execution_count": 2,
     "metadata": {},
     "output_type": "execute_result"
    }
   ],
   "source": [
    "df = pd.read_csv('5k_Datasets/5k_tweets_lda_10.csv', index_col=0)\n",
    "df.shape"
   ]
  },
  {
   "cell_type": "code",
   "execution_count": 3,
   "metadata": {},
   "outputs": [
    {
     "data": {
      "text/plain": [
       "(575949, 3725)"
      ]
     },
     "execution_count": 3,
     "metadata": {},
     "output_type": "execute_result"
    }
   ],
   "source": [
    "with gzip.open('Datasets/features_df.pkl', 'rb') as handle:\n",
    "    features_df = pickle.load(handle)  \n",
    "features_df.shape"
   ]
  },
  {
   "cell_type": "markdown",
   "metadata": {},
   "source": [
    "# Train Test Split"
   ]
  },
  {
   "cell_type": "code",
   "execution_count": 8,
   "metadata": {},
   "outputs": [
    {
     "data": {
      "text/plain": [
       "((431961, 3725), (143988, 3725))"
      ]
     },
     "execution_count": 8,
     "metadata": {},
     "output_type": "execute_result"
    }
   ],
   "source": [
    "# Fucntion to split into train and test data\n",
    "def tt_split(X, y):\n",
    "    X_train, X_test, y_train, y_test = train_test_split(X, y, test_size=0.25, stratify=y, random_state=1)\n",
    "    return X_train, X_test, y_train, y_test\n",
    "\n",
    "# Split into train and test data\n",
    "X_train, X_test, y_train, y_test = tt_split(features_df, df['sentiment'])\n",
    "\n",
    "X_train.shape, X_test.shape"
   ]
  },
  {
   "cell_type": "markdown",
   "metadata": {},
   "source": [
    "# MinMax Scaler"
   ]
  },
  {
   "cell_type": "code",
   "execution_count": 11,
   "metadata": {},
   "outputs": [],
   "source": [
    "# MinMax Scaler\n",
    "mm_scaler = MinMaxScaler()\n",
    "X_train_mm_scl = mm_scaler.fit_transform(X_train)\n",
    "X_test_mm_scl = mm_scaler.transform(X_test)"
   ]
  },
  {
   "cell_type": "markdown",
   "metadata": {},
   "source": [
    "# Standard Scaler"
   ]
  },
  {
   "cell_type": "code",
   "execution_count": 17,
   "metadata": {},
   "outputs": [],
   "source": [
    "# Standard Scaler\n",
    "std_scaler = StandardScaler()\n",
    "X_train_std_scl = std_scaler.fit_transform(X_train)\n",
    "X_test_std_scl = std_scaler.transform(X_test)"
   ]
  },
  {
   "cell_type": "markdown",
   "metadata": {},
   "source": [
    "# Bernoulli Naive Bayes"
   ]
  },
  {
   "cell_type": "code",
   "execution_count": 12,
   "metadata": {},
   "outputs": [],
   "source": [
    "# Function to fit bernoulli naive bayes model\n",
    "def bnb(X_train, y_train):\n",
    "    bnb = BernoulliNB()\n",
    "    bnb_fit = bnb.fit(X_train, y_train)\n",
    "    return bnb_fit"
   ]
  },
  {
   "cell_type": "code",
   "execution_count": 13,
   "metadata": {},
   "outputs": [
    {
     "data": {
      "text/plain": [
       "(0.6962663555296275, 0.6938904652543706)"
      ]
     },
     "execution_count": 13,
     "metadata": {},
     "output_type": "execute_result"
    }
   ],
   "source": [
    "# Fit bernoulli naive bayes model on train data, predict on minmax scaler test data\n",
    "bnb_fit_mm_scl = bnb(X_train_mm_scl, y_train)\n",
    "bnb_preds_mm_scl = bnb_fit_mm_scl.predict(X_test_mm_scl)\n",
    "\n",
    "accuracy_score(bnb_preds_mm_scl, y_test), f1_score(bnb_preds_mm_scl, y_test, average='weighted')"
   ]
  },
  {
   "cell_type": "code",
   "execution_count": 18,
   "metadata": {},
   "outputs": [
    {
     "data": {
      "text/plain": [
       "(0.7007250604217018, 0.698552621939297)"
      ]
     },
     "execution_count": 18,
     "metadata": {},
     "output_type": "execute_result"
    }
   ],
   "source": [
    "# Fit bernoulli naive bayes model on train data, predict on standard scaler test data\n",
    "bnb_fit_std_scl = bnb(X_train_std_scl, y_train)\n",
    "bnb_preds_std_scl = bnb_fit_std_scl.predict(X_test_std_scl)\n",
    "\n",
    "accuracy_score(bnb_preds_std_scl, y_test), f1_score(bnb_preds_std_scl, y_test, average='weighted')"
   ]
  },
  {
   "cell_type": "code",
   "execution_count": 57,
   "metadata": {},
   "outputs": [
    {
     "data": {
      "text/plain": [
       "array([[ 9643., 16881.,  9610., ...,   603.,   122.,   201.],\n",
       "       [ 4336.,  6795.,  4322., ...,   157.,    22.,    52.],\n",
       "       [11446., 17503., 10834., ...,   475.,    99.,   185.]])"
      ]
     },
     "execution_count": 57,
     "metadata": {},
     "output_type": "execute_result"
    }
   ],
   "source": [
    "# Feature count\n",
    "bnb_fit_std_scl.feature_count_"
   ]
  },
  {
   "cell_type": "code",
   "execution_count": 68,
   "metadata": {},
   "outputs": [
    {
     "name": "stdout",
     "output_type": "stream",
     "text": [
      "Index(['#wholesale', 'okhand', '#sale', 'smilingfacewith3',\n",
      "       'smilingfacewithheart', 'faceblowingakiss', '#love', '#safe',\n",
      "       'twohearts', 'blueheart'],\n",
      "      dtype='object')\n",
      "Index(['incompetence', 'smilingfacewithheart', 'smilingfacewith3', 'heartsuit',\n",
      "       'purpleheart', 'threatened', 'upset', 'discarded', 'noble', 'okhand'],\n",
      "      dtype='object')\n",
      "Index(['iniran', 'assault', 'suicide', 'thief', 'germany's', 'incompetence',\n",
      "       'violent', 'gross', '#fight', 'declares'],\n",
      "      dtype='object')\n"
     ]
    }
   ],
   "source": [
    "# Top 10 most important features per class\n",
    "pos_class_prob_sorted = bnb_fit_std_scl.feature_log_prob_[0, :].argsort()\n",
    "neu_class_prob_sorted = bnb_fit_std_scl.feature_log_prob_[1, :].argsort()\n",
    "neg_class_prob_sorted = bnb_fit_std_scl.feature_log_prob_[2, :].argsort()\n",
    "\n",
    "print(np.take(features_df.columns, pos_class_prob_sorted[:10]))\n",
    "print(np.take(features_df.columns, neu_class_prob_sorted[:10]))\n",
    "print(np.take(features_df.columns, neg_class_prob_sorted[:10]))"
   ]
  },
  {
   "cell_type": "markdown",
   "metadata": {},
   "source": [
    "# Multinomial Naive Bayes"
   ]
  },
  {
   "cell_type": "code",
   "execution_count": 14,
   "metadata": {},
   "outputs": [],
   "source": [
    "# Function to fit multinomial naive bayes model\n",
    "def mnb(X_train, y_train):\n",
    "    mnb = MultinomialNB()\n",
    "    mnb_fit = mnb.fit(X_train, y_train)\n",
    "    return mnb_fit"
   ]
  },
  {
   "cell_type": "code",
   "execution_count": 15,
   "metadata": {},
   "outputs": [
    {
     "data": {
      "text/plain": [
       "(0.648366530544212, 0.6560903029607621)"
      ]
     },
     "execution_count": 15,
     "metadata": {},
     "output_type": "execute_result"
    }
   ],
   "source": [
    "# Fit multinomial naive bayes model on train data, predict on minmax scaler test data\n",
    "mnb_fit_mm_scl = mnb(X_train_mm_scl, y_train)\n",
    "mnb_preds_mm_scl = mnb_fit_mm_scl.predict(X_test_mm_scl)\n",
    "\n",
    "accuracy_score(mnb_preds_mm_scl, y_test), f1_score(mnb_preds_mm_scl, y_test, average='weighted')"
   ]
  },
  {
   "cell_type": "markdown",
   "metadata": {},
   "source": [
    "# Decision Tree"
   ]
  },
  {
   "cell_type": "code",
   "execution_count": 25,
   "metadata": {},
   "outputs": [],
   "source": [
    "# Function to fit decision tree model\n",
    "def dt(X_train, y_train):\n",
    "    dt = DecisionTreeClassifier()\n",
    "    dt_fit = dt.fit(X_train, y_train)\n",
    "    return dt_fit"
   ]
  },
  {
   "cell_type": "code",
   "execution_count": 26,
   "metadata": {},
   "outputs": [
    {
     "data": {
      "text/plain": [
       "(0.723782537433675, 0.7237418687722337)"
      ]
     },
     "execution_count": 26,
     "metadata": {},
     "output_type": "execute_result"
    }
   ],
   "source": [
    "# Fit decision tree model on train data, predict on minmax scaler test data\n",
    "dt_fit_mm_scl = dt(X_train_mm_scl, y_train)\n",
    "dt_preds_mm_scl = dt_fit_mm_scl.predict(X_test_mm_scl)\n",
    "\n",
    "accuracy_score(dt_preds_mm_scl, y_test), f1_score(dt_preds_mm_scl, y_test, average='weighted')"
   ]
  },
  {
   "cell_type": "code",
   "execution_count": 27,
   "metadata": {},
   "outputs": [
    {
     "data": {
      "text/plain": [
       "(0.7228171792093786, 0.7227790464378497)"
      ]
     },
     "execution_count": 27,
     "metadata": {},
     "output_type": "execute_result"
    }
   ],
   "source": [
    "# Fit decision tree on train data, predict on standard scaler test data\n",
    "dt_fit_std_scl = dt(X_train_std_scl, y_train)\n",
    "dt_preds_std_scl = dt_fit_std_scl.predict(X_test_std_scl)\n",
    "\n",
    "accuracy_score(dt_preds_std_scl, y_test), f1_score(dt_preds_std_scl, y_test, average='weighted')"
   ]
  },
  {
   "cell_type": "code",
   "execution_count": 59,
   "metadata": {},
   "outputs": [
    {
     "data": {
      "text/plain": [
       "array([1.37984427e-02, 7.07843347e-03, 6.19432068e-03, ...,\n",
       "       1.73897035e-04, 3.40212838e-05, 9.40662773e-05])"
      ]
     },
     "execution_count": 59,
     "metadata": {},
     "output_type": "execute_result"
    }
   ],
   "source": [
    "# Feature importances\n",
    "dt_fit_std_scl.feature_importances_"
   ]
  },
  {
   "cell_type": "code",
   "execution_count": 73,
   "metadata": {},
   "outputs": [
    {
     "data": {
      "text/plain": [
       "[('subjectivity_score', 0.06111831308232892),\n",
       " ('nlikes', 0.01402649295835318),\n",
       " ('protect', 0.013184184251441364),\n",
       " ('help', 0.012865803628373692),\n",
       " ('infected', 0.011508287105684818),\n",
       " ('safe', 0.009374088894935299),\n",
       " ('please', 0.00832027302188848),\n",
       " ('death', 0.008313647504325852),\n",
       " ('hand', 0.007588242417386953),\n",
       " ('nreplies', 0.007010932702317728)]"
      ]
     },
     "execution_count": 73,
     "metadata": {},
     "output_type": "execute_result"
    }
   ],
   "source": [
    "features_dict = dict(zip(features_df.columns, dt_fit_mm_scl.feature_importances_))\n",
    "sorted_d = sorted(features_dict.items(), key=lambda x: x[1], reverse=True)[:10]\n",
    "sorted_d"
   ]
  },
  {
   "cell_type": "code",
   "execution_count": 75,
   "metadata": {},
   "outputs": [
    {
     "name": "stdout",
     "output_type": "stream",
     "text": [
      "Feature: 0, Score: 0.00000\n",
      "Feature: 1, Score: 0.00000\n",
      "Feature: 2, Score: 0.00000\n",
      "Feature: 3, Score: 0.00000\n",
      "Feature: 4, Score: 0.00000\n",
      "Feature: 5, Score: 0.00000\n",
      "Feature: 6, Score: 0.00000\n",
      "Feature: 7, Score: 0.00000\n",
      "Feature: 8, Score: 0.00000\n",
      "Feature: 9, Score: 0.00000\n"
     ]
    },
    {
     "data": {
      "image/png": "[encoded data removed]",
      "text/plain": [
       "<Figure size 432x288 with 1 Axes>"
      ]
     },
     "metadata": {
      "needs_background": "light"
     },
     "output_type": "display_data"
    }
   ],
   "source": [
    "# Top 10 most important features\n",
    "dt_importance = sorted(dt_fit_mm_scl.feature_importances_, reverse=True)[-10:]\n",
    "\n",
    "for i,v in enumerate(dt_importance):\n",
    "    print('Feature: %0d, Score: %.5f' % (i,v))\n",
    "\n",
    "plt.bar([x for x in range(len(dt_importance))], dt_importance)\n",
    "plt.show()"
   ]
  },
  {
   "cell_type": "code",
   "execution_count": 81,
   "metadata": {},
   "outputs": [
    {
     "data": {
      "text/plain": [
       "{'subjectivity_score': 0.06111831308232892,\n",
       " 'nlikes': 0.01402649295835318,\n",
       " 'protect': 0.013184184251441364,\n",
       " 'help': 0.012865803628373692,\n",
       " 'infected': 0.011508287105684818,\n",
       " 'safe': 0.009374088894935299,\n",
       " 'please': 0.00832027302188848,\n",
       " 'death': 0.008313647504325852,\n",
       " 'hand': 0.007588242417386953,\n",
       " 'nreplies': 0.007010932702317728}"
      ]
     },
     "execution_count": 81,
     "metadata": {},
     "output_type": "execute_result"
    }
   ],
   "source": [
    "dt_features = dict(zip(features_df.columns, dt_fit_mm_scl.feature_importances_))\n",
    "dt_features = dict(sorted(dt_features.items(), key=lambda x: x[1], reverse=True)[:10])\n",
    "dt_features"
   ]
  },
  {
   "cell_type": "code",
   "execution_count": 84,
   "metadata": {},
   "outputs": [
    {
     "data": {
      "text/plain": [
       "dict_keys(['subjectivity_score', 'nlikes', 'protect', 'help', 'infected', 'safe', 'please', 'death', 'hand', 'nreplies'])"
      ]
     },
     "execution_count": 84,
     "metadata": {},
     "output_type": "execute_result"
    }
   ],
   "source": [
    "dt_features.keys()"
   ]
  },
  {
   "cell_type": "code",
   "execution_count": 87,
   "metadata": {},
   "outputs": [
    {
     "data": {
      "text/plain": [
       "<BarContainer object of 10 artists>"
      ]
     },
     "execution_count": 87,
     "metadata": {},
     "output_type": "execute_result"
    },
    {
     "data": {
      "image/png": "[encoded data removed]",
      "text/plain": [
       "<Figure size 432x288 with 1 Axes>"
      ]
     },
     "metadata": {},
     "output_type": "display_data"
    }
   ],
   "source": [
    "plt.bar(dt_features.keys(), dt_features.values())"
   ]
  },
  {
   "cell_type": "markdown",
   "metadata": {},
   "source": [
    "# Confusion Matrix"
   ]
  },
  {
   "cell_type": "code",
   "execution_count": 52,
   "metadata": {},
   "outputs": [],
   "source": [
    "def plot_confusion_matrix(cm, classes,\n",
    "                          normalize=False,\n",
    "                          title='Confusion matrix',\n",
    "                          cmap=plt.cm.Blues):\n",
    "    \"\"\"\n",
    "    This function prints and plots the confusion matrix.\n",
    "    Normalization can be applied by setting `normalize=True`.\n",
    "    \"\"\"\n",
    "    if normalize:\n",
    "        cm = cm.astype('float') / cm.sum(axis=1)[:, np.newaxis]\n",
    "        print(\"Normalized confusion matrix\")\n",
    "    else:\n",
    "        print('Confusion Matrix, without normalization')\n",
    "    print(cm)\n",
    "    plt.imshow(cm, interpolation='nearest', cmap=cmap)\n",
    "    plt.title(title, color='white')\n",
    "    plt.colorbar()\n",
    "    tick_marks = np.arange(len(classes))\n",
    "    plt.xticks(tick_marks, classes, color='white', rotation=45)\n",
    "    plt.yticks(tick_marks, classes, color='white')\n",
    "    fmt = '.2f' if normalize else 'd'\n",
    "    thresh = cm.max() / 2.\n",
    "    for i, j in itertools.product(range(cm.shape[0]), range(cm.shape[1])):\n",
    "        plt.text(j, i, format(cm[i, j], fmt), fontsize=15,\n",
    "                 horizontalalignment=\"center\", verticalalignment=\"center\",\n",
    "                 color=\"white\" if cm[i, j] > thresh else \"black\")\n",
    "    plt.tight_layout()\n",
    "    plt.ylabel('True Label', color='white')\n",
    "    plt.xlabel('Predicted Label', color='white')"
   ]
  },
  {
   "cell_type": "code",
   "execution_count": 53,
   "metadata": {
    "scrolled": true
   },
   "outputs": [
    {
     "name": "stdout",
     "output_type": "stream",
     "text": [
      "Normalized confusion matrix\n",
      "[[0.70889576 0.08239822 0.20870602]\n",
      " [0.14535307 0.72822131 0.12642562]\n",
      " [0.19625418 0.06832776 0.73541806]]\n"
     ]
    },
    {
     "data": {
      "image/png": "[encoded data removed]",
      "text/plain": [
       "<Figure size 432x288 with 2 Axes>"
      ]
     },
     "metadata": {},
     "output_type": "display_data"
    }
   ],
   "source": [
    "cm_dt_mm_scl = confusion_matrix(y_test, dt_preds_mm_scl)\n",
    "classes = ['Negative', 'Neutral', 'Positive']\n",
    "plot_confusion_matrix(cm_dt_mm_scl, classes, normalize=True,\n",
    "                      title='Decision Tree Confusion Matrix', cmap=plt.cm.Blues)"
   ]
  },
  {
   "cell_type": "code",
   "execution_count": 49,
   "metadata": {},
   "outputs": [],
   "source": [
    "from io import StringIO\n",
    "from sklearn.tree import export_graphviz\n",
    "from IPython.display import Image  \n",
    "import pydotplus"
   ]
  },
  {
   "cell_type": "code",
   "execution_count": null,
   "metadata": {},
   "outputs": [],
   "source": [
    "dot_data = StringIO()\n",
    "export_graphviz(dt_fit_mm_scl, out_file=dot_data,  \n",
    "                filled=True, rounded=True,\n",
    "                special_characters=True,\n",
    "                feature_names=feature_cols,\n",
    "                class_names=['negative','neutral', 'positive'])\n",
    "graph = pydotplus.graph_from_dot_data(dot_data.getvalue())  \n",
    "graph.write_png('decision_twee.png')\n",
    "Image(graph.create_png())"
   ]
  }
 ],
 "metadata": {
  "kernelspec": {
   "display_name": "Python 3",
   "language": "python",
   "name": "python3"
  },
  "language_info": {
   "codemirror_mode": {
    "name": "ipython",
    "version": 3
   },
   "file_extension": ".py",
   "mimetype": "text/x-python",
   "name": "python",
   "nbconvert_exporter": "python",
   "pygments_lexer": "ipython3",
   "version": "3.7.7"
  }
 },
 "nbformat": 4,
 "nbformat_minor": 4
}
