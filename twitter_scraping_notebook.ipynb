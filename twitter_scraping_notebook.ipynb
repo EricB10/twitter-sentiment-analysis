{
 "cells": [
  {
   "cell_type": "markdown",
   "metadata": {},
   "source": [
    "# Imports"
   ]
  },
  {
   "cell_type": "code",
   "execution_count": 1,
   "metadata": {},
   "outputs": [],
   "source": [
    "import numpy as np\n",
    "import pandas as pd\n",
    "\n",
    "from datetime import datetime\n",
    "\n",
    "import twint\n",
    "\n",
    "# Fixes runtime errors with twint\n",
    "import nest_asyncio\n",
    "nest_asyncio.apply()\n",
    "\n",
    "from textblob import TextBlob\n",
    "\n",
    "import matplotlib\n",
    "%matplotlib inline"
   ]
  },
  {
   "cell_type": "markdown",
   "metadata": {},
   "source": [
    "# Scrape Tweets"
   ]
  },
  {
   "cell_type": "code",
   "execution_count": 2,
   "metadata": {},
   "outputs": [],
   "source": [
    "def twint_search(search, username=None, since=None, until=None, drop_cols=None, limit=None):\n",
    "    '''\n",
    "    Function to return a pandas dataframe of tweets in English containing search terms using twint.\n",
    "    Required parameter: search term.\n",
    "    Optional parameters: username, start date (since) and end date (until) to search, columns to drop, maximum number of tweets (limit).\n",
    "    '''\n",
    "    c = twint.Config()\n",
    "    c.Lang = 'en'\n",
    "    c.Search = search\n",
    "    c.Username = username\n",
    "    c.Since = since\n",
    "    c.Until = until\n",
    "    c.Limit = limit\n",
    "    c.Pandas = True\n",
    "    # Hide the printing of every tweet during scrape\n",
    "    c.Hide_output = True\n",
    "    twint.run.Search(c)\n",
    "    df = twint.storage.panda.Tweets_df\n",
    "    # Transform date string into datetime object\n",
    "    df['date'] = pd.to_datetime(df['date']).dt.date\n",
    "    return df"
   ]
  },
  {
   "cell_type": "code",
   "execution_count": 3,
   "metadata": {},
   "outputs": [],
   "source": [
    "def search_loop(start_date, end_date, search, filename, username=None, drop_cols=None, limit=None):\n",
    "    '''\n",
    "    Function to loop over date range and perform twint_search function for each day, returning one combined dataframe.\n",
    "    Periodically saves progress to CSV after each daily search.\n",
    "    Required parameters: start date, end date, search term.\n",
    "    Optional parameters: username, columns to drop, maximum number of tweets per day (limit).\n",
    "    '''\n",
    "    df = pd.DataFrame()\n",
    "    date_range = pd.Series(pd.date_range(start_date, end_date))\n",
    "    for d in range(len(date_range) - 1):\n",
    "        since = date_range[d].strftime('%Y-%m-%d')\n",
    "        until = date_range[d + 1].strftime('%Y-%m-%d')\n",
    "        day_df = twint_search(search=search, username=username, since=since, until=until, drop_cols=drop_cols, limit=limit)\n",
    "        # Drop empty columns\n",
    "        day_df.drop(columns=drop_cols, axis=1, inplace=True)\n",
    "        # Add new daily data to dataframe, reset index, save to CSV\n",
    "        df = pd.concat([df, day_df])\n",
    "        del day_df\n",
    "        df.reset_index(drop=True, inplace=True)\n",
    "        df.to_csv(f'10k_Datasets/{filename}.csv')\n",
    "        print(datetime.now(), f'{since} Saved!')\n",
    "    return df"
   ]
  },
  {
   "cell_type": "code",
   "execution_count": 4,
   "metadata": {},
   "outputs": [],
   "source": [
    "# Search loop params for March tweets\n",
    "\n",
    "start_date = '2020-03-28'\n",
    "\n",
    "end_date = '2020-03-29'\n",
    "\n",
    "search = '(mask OR masks) AND (covid OR covid19 OR corona OR coronavirus)'\n",
    "\n",
    "filename = '10k_march28_tweets'\n",
    "\n",
    "drop_cols = ['timezone', 'place', 'cashtags', 'user_id_str', 'day', 'hour', 'search', 'near', 'geo',\n",
    "             'source', 'user_rt_id', 'user_rt', 'retweet_date', 'translate', 'trans_src', 'trans_dest']"
   ]
  },
  {
   "cell_type": "code",
   "execution_count": 5,
   "metadata": {
    "scrolled": true
   },
   "outputs": [
    {
     "name": "stdout",
     "output_type": "stream",
     "text": [
      "2020-06-15 21:05:58.350979 2020-03-28 Saved!\n",
      "CPU times: user 52.8 s, sys: 338 ms, total: 53.2 s\n",
      "Wall time: 2min 17s\n"
     ]
    }
   ],
   "source": [
    "%time df = search_loop(start_date=start_date, end_date=end_date, search=search, filename=filename, drop_cols=drop_cols, limit=10000)"
   ]
  },
  {
   "cell_type": "code",
   "execution_count": 6,
   "metadata": {},
   "outputs": [
    {
     "data": {
      "text/plain": [
       "3441"
      ]
     },
     "execution_count": 6,
     "metadata": {},
     "output_type": "execute_result"
    }
   ],
   "source": [
    "len(df)"
   ]
  },
  {
   "cell_type": "code",
   "execution_count": null,
   "metadata": {},
   "outputs": [],
   "source": []
  }
 ],
 "metadata": {
  "kernelspec": {
   "display_name": "Python 3",
   "language": "python",
   "name": "python3"
  },
  "language_info": {
   "codemirror_mode": {
    "name": "ipython",
    "version": 3
   },
   "file_extension": ".py",
   "mimetype": "text/x-python",
   "name": "python",
   "nbconvert_exporter": "python",
   "pygments_lexer": "ipython3",
   "version": "3.7.7"
  }
 },
 "nbformat": 4,
 "nbformat_minor": 4
}
