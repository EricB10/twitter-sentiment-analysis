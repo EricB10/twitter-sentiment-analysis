{
 "cells": [
  {
   "cell_type": "markdown",
   "metadata": {},
   "source": [
    "# Imports"
   ]
  },
  {
   "cell_type": "code",
   "execution_count": 1,
   "metadata": {},
   "outputs": [],
   "source": [
    "import numpy as np\n",
    "import pandas as pd\n",
    "\n",
    "from datetime import datetime\n",
    "\n",
    "import twint\n",
    "\n",
    "# Fixes runtime errors with twint\n",
    "import nest_asyncio\n",
    "nest_asyncio.apply()\n",
    "\n",
    "from textblob import TextBlob\n",
    "\n",
    "import matplotlib\n",
    "%matplotlib inline"
   ]
  },
  {
   "cell_type": "markdown",
   "metadata": {},
   "source": [
    "# Scrape Tweets"
   ]
  },
  {
   "cell_type": "code",
   "execution_count": 2,
   "metadata": {},
   "outputs": [],
   "source": [
    "def twint_search(search, username=None, since=None, until=None, drop_cols=None, limit=None):\n",
    "    '''\n",
    "    Function to return a pandas dataframe of tweets in English containing search terms using twint.\n",
    "    Required parameter: search term.\n",
    "    Optional parameters: username, start date (since) and end date (until) to search, columns to drop, maximum number of tweets (limit).\n",
    "    '''\n",
    "    c = twint.Config()\n",
    "    c.Lang = 'en'\n",
    "    c.Search = search\n",
    "    c.Username = username\n",
    "    c.Since = since\n",
    "    c.Until = until\n",
    "    c.Limit = limit\n",
    "    c.Pandas = True\n",
    "    # Hide the printing of every tweet during scrape\n",
    "    c.Hide_output = True\n",
    "    twint.run.Search(c)\n",
    "    df = twint.storage.panda.Tweets_df\n",
    "    # Transform date string into datetime object\n",
    "    df['date'] = pd.to_datetime(df['date']).dt.date\n",
    "    return df"
   ]
  },
  {
   "cell_type": "code",
   "execution_count": 3,
   "metadata": {},
   "outputs": [],
   "source": [
    "def search_loop(start_date, end_date, search, filename, username=None, drop_cols=None, limit=None):\n",
    "    '''\n",
    "    Function to loop over date range and perform twint_search function for each day, returning one combined dataframe.\n",
    "    Periodically saves progress to CSV after each daily search.\n",
    "    Required parameters: start date, end date, search term.\n",
    "    Optional parameters: username, columns to drop, maximum number of tweets per day (limit).\n",
    "    '''\n",
    "    df = pd.DataFrame()\n",
    "    date_range = pd.Series(pd.date_range(start_date, end_date))\n",
    "    for d in range(len(date_range) - 1):\n",
    "        since = date_range[d].strftime('%Y-%m-%d')\n",
    "        until = date_range[d + 1].strftime('%Y-%m-%d')\n",
    "        day_df = twint_search(search=search, username=username, since=since, until=until, drop_cols=drop_cols, limit=limit)\n",
    "        # Drop empty columns\n",
    "        day_df.drop(columns=drop_cols, axis=1, inplace=True)\n",
    "        # Add new daily data to dataframe, reset index, save to CSV\n",
    "        df = pd.concat([df, day_df])\n",
    "        del day_df\n",
    "        df.reset_index(drop=True, inplace=True)\n",
    "        df.to_csv(f'Datasets/{filename}.csv')\n",
    "    return df"
   ]
  },
  {
   "cell_type": "code",
   "execution_count": 8,
   "metadata": {},
   "outputs": [],
   "source": [
    "# Search loop params for January tweets\n",
    "\n",
    "start_date = '2020-01-01'\n",
    "\n",
    "end_date = '2020-02-01'\n",
    "\n",
    "search = '(mask OR masks OR facemask OR facemasks)'\n",
    "\n",
    "filename = 'january_tweets'\n",
    "\n",
    "drop_cols = ['timezone', 'place', 'cashtags', 'user_id_str', 'day', 'hour', 'search', 'near', 'geo',\n",
    "             'source', 'user_rt_id', 'user_rt', 'retweet_date', 'translate', 'trans_src', 'trans_dest']"
   ]
  },
  {
   "cell_type": "code",
   "execution_count": 9,
   "metadata": {},
   "outputs": [
    {
     "name": "stdout",
     "output_type": "stream",
     "text": [
      "CPU times: user 28.5 s, sys: 181 ms, total: 28.7 s\n",
      "Wall time: 1min 11s\n"
     ]
    }
   ],
   "source": [
    "%time jan_df = search_loop(start_date=start_date, end_date=end_date, search=search, filename=filename, drop_cols=drop_cols, limit=50)"
   ]
  },
  {
   "cell_type": "code",
   "execution_count": 10,
   "metadata": {},
   "outputs": [
    {
     "data": {
      "text/plain": [
       "1860"
      ]
     },
     "execution_count": 10,
     "metadata": {},
     "output_type": "execute_result"
    }
   ],
   "source": [
    "len(jan_df)"
   ]
  },
  {
   "cell_type": "code",
   "execution_count": 11,
   "metadata": {},
   "outputs": [
    {
     "data": {
      "text/html": [
       "<div>\n",
       "<style scoped>\n",
       "    .dataframe tbody tr th:only-of-type {\n",
       "        vertical-align: middle;\n",
       "    }\n",
       "\n",
       "    .dataframe tbody tr th {\n",
       "        vertical-align: top;\n",
       "    }\n",
       "\n",
       "    .dataframe thead th {\n",
       "        text-align: right;\n",
       "    }\n",
       "</style>\n",
       "<table border=\"1\" class=\"dataframe\">\n",
       "  <thead>\n",
       "    <tr style=\"text-align: right;\">\n",
       "      <th></th>\n",
       "      <th>id</th>\n",
       "      <th>conversation_id</th>\n",
       "      <th>created_at</th>\n",
       "      <th>date</th>\n",
       "      <th>tweet</th>\n",
       "      <th>hashtags</th>\n",
       "      <th>user_id</th>\n",
       "      <th>username</th>\n",
       "      <th>name</th>\n",
       "      <th>link</th>\n",
       "      <th>retweet</th>\n",
       "      <th>nlikes</th>\n",
       "      <th>nreplies</th>\n",
       "      <th>nretweets</th>\n",
       "      <th>quote_url</th>\n",
       "      <th>retweet_id</th>\n",
       "      <th>reply_to</th>\n",
       "    </tr>\n",
       "  </thead>\n",
       "  <tbody>\n",
       "    <tr>\n",
       "      <th>0</th>\n",
       "      <td>1212523886329380865</td>\n",
       "      <td>1212523886329380865</td>\n",
       "      <td>1577923196000</td>\n",
       "      <td>2020-01-01</td>\n",
       "      <td>SpongeBob: slides down Sand Mountain\\nThe tree...</td>\n",
       "      <td>[]</td>\n",
       "      <td>1099209894295678977</td>\n",
       "      <td>Matt04181</td>\n",
       "      <td>Matt0417 (CEO of POOP)</td>\n",
       "      <td>https://twitter.com/Matt04181/status/121252388...</td>\n",
       "      <td>False</td>\n",
       "      <td>4</td>\n",
       "      <td>0</td>\n",
       "      <td>0</td>\n",
       "      <td></td>\n",
       "      <td></td>\n",
       "      <td>[{'user_id': '1099209894295678977', 'username'...</td>\n",
       "    </tr>\n",
       "    <tr>\n",
       "      <th>1</th>\n",
       "      <td>1212523880558026753</td>\n",
       "      <td>1212523880558026753</td>\n",
       "      <td>1577923195000</td>\n",
       "      <td>2020-01-01</td>\n",
       "      <td>Started 2020 with freshly washed bed sheets, a...</td>\n",
       "      <td>[]</td>\n",
       "      <td>57777541</td>\n",
       "      <td>standtallx</td>\n",
       "      <td>Emma 🧛🏻‍♀️</td>\n",
       "      <td>https://twitter.com/standtallx/status/12125238...</td>\n",
       "      <td>False</td>\n",
       "      <td>3</td>\n",
       "      <td>2</td>\n",
       "      <td>0</td>\n",
       "      <td></td>\n",
       "      <td></td>\n",
       "      <td>[{'user_id': '57777541', 'username': 'standtal...</td>\n",
       "    </tr>\n",
       "    <tr>\n",
       "      <th>2</th>\n",
       "      <td>1212523828888449024</td>\n",
       "      <td>1212421340281614338</td>\n",
       "      <td>1577923183000</td>\n",
       "      <td>2020-01-01</td>\n",
       "      <td>Using the coverage of his yellow card to mask ...</td>\n",
       "      <td>[#classicjose, #coverup]</td>\n",
       "      <td>346609834</td>\n",
       "      <td>5_Times_LFC</td>\n",
       "      <td>6 Times LFC</td>\n",
       "      <td>https://twitter.com/5_Times_LFC/status/1212523...</td>\n",
       "      <td>False</td>\n",
       "      <td>0</td>\n",
       "      <td>0</td>\n",
       "      <td>0</td>\n",
       "      <td></td>\n",
       "      <td></td>\n",
       "      <td>[{'user_id': '346609834', 'username': '5_Times...</td>\n",
       "    </tr>\n",
       "    <tr>\n",
       "      <th>3</th>\n",
       "      <td>1212523807128186882</td>\n",
       "      <td>1212402852011937792</td>\n",
       "      <td>1577923177000</td>\n",
       "      <td>2020-01-01</td>\n",
       "      <td>The mask  pic.twitter.com/vHi9pC9S62</td>\n",
       "      <td>[]</td>\n",
       "      <td>1070005555777945600</td>\n",
       "      <td>kagura_shelby</td>\n",
       "      <td>mugiwara no</td>\n",
       "      <td>https://twitter.com/kagura_shelby/status/12125...</td>\n",
       "      <td>False</td>\n",
       "      <td>3</td>\n",
       "      <td>0</td>\n",
       "      <td>0</td>\n",
       "      <td></td>\n",
       "      <td></td>\n",
       "      <td>[{'user_id': '1070005555777945600', 'username'...</td>\n",
       "    </tr>\n",
       "    <tr>\n",
       "      <th>4</th>\n",
       "      <td>1212523752925229056</td>\n",
       "      <td>1212512506838519811</td>\n",
       "      <td>1577923164000</td>\n",
       "      <td>2020-01-01</td>\n",
       "      <td>I know what you mean, I've been depressed too ...</td>\n",
       "      <td>[#hugs]</td>\n",
       "      <td>48659042</td>\n",
       "      <td>IBdaSweet1</td>\n",
       "      <td>Luwamba L.J.Taylor</td>\n",
       "      <td>https://twitter.com/IBdaSweet1/status/12125237...</td>\n",
       "      <td>False</td>\n",
       "      <td>1</td>\n",
       "      <td>0</td>\n",
       "      <td>0</td>\n",
       "      <td></td>\n",
       "      <td></td>\n",
       "      <td>[{'user_id': '48659042', 'username': 'IBdaSwee...</td>\n",
       "    </tr>\n",
       "  </tbody>\n",
       "</table>\n",
       "</div>"
      ],
      "text/plain": [
       "                    id      conversation_id     created_at        date  \\\n",
       "0  1212523886329380865  1212523886329380865  1577923196000  2020-01-01   \n",
       "1  1212523880558026753  1212523880558026753  1577923195000  2020-01-01   \n",
       "2  1212523828888449024  1212421340281614338  1577923183000  2020-01-01   \n",
       "3  1212523807128186882  1212402852011937792  1577923177000  2020-01-01   \n",
       "4  1212523752925229056  1212512506838519811  1577923164000  2020-01-01   \n",
       "\n",
       "                                               tweet  \\\n",
       "0  SpongeBob: slides down Sand Mountain\\nThe tree...   \n",
       "1  Started 2020 with freshly washed bed sheets, a...   \n",
       "2  Using the coverage of his yellow card to mask ...   \n",
       "3               The mask  pic.twitter.com/vHi9pC9S62   \n",
       "4  I know what you mean, I've been depressed too ...   \n",
       "\n",
       "                   hashtags              user_id       username  \\\n",
       "0                        []  1099209894295678977      Matt04181   \n",
       "1                        []             57777541     standtallx   \n",
       "2  [#classicjose, #coverup]            346609834    5_Times_LFC   \n",
       "3                        []  1070005555777945600  kagura_shelby   \n",
       "4                   [#hugs]             48659042     IBdaSweet1   \n",
       "\n",
       "                     name                                               link  \\\n",
       "0  Matt0417 (CEO of POOP)  https://twitter.com/Matt04181/status/121252388...   \n",
       "1              Emma 🧛🏻‍♀️  https://twitter.com/standtallx/status/12125238...   \n",
       "2             6 Times LFC  https://twitter.com/5_Times_LFC/status/1212523...   \n",
       "3             mugiwara no  https://twitter.com/kagura_shelby/status/12125...   \n",
       "4      Luwamba L.J.Taylor  https://twitter.com/IBdaSweet1/status/12125237...   \n",
       "\n",
       "   retweet  nlikes  nreplies  nretweets quote_url retweet_id  \\\n",
       "0    False       4         0          0                        \n",
       "1    False       3         2          0                        \n",
       "2    False       0         0          0                        \n",
       "3    False       3         0          0                        \n",
       "4    False       1         0          0                        \n",
       "\n",
       "                                            reply_to  \n",
       "0  [{'user_id': '1099209894295678977', 'username'...  \n",
       "1  [{'user_id': '57777541', 'username': 'standtal...  \n",
       "2  [{'user_id': '346609834', 'username': '5_Times...  \n",
       "3  [{'user_id': '1070005555777945600', 'username'...  \n",
       "4  [{'user_id': '48659042', 'username': 'IBdaSwee...  "
      ]
     },
     "execution_count": 11,
     "metadata": {},
     "output_type": "execute_result"
    }
   ],
   "source": [
    "jan_df.head()"
   ]
  },
  {
   "cell_type": "code",
   "execution_count": 12,
   "metadata": {},
   "outputs": [
    {
     "data": {
      "text/plain": [
       "Index(['id', 'conversation_id', 'created_at', 'date', 'tweet', 'hashtags',\n",
       "       'user_id', 'username', 'name', 'link', 'retweet', 'nlikes', 'nreplies',\n",
       "       'nretweets', 'quote_url', 'retweet_id', 'reply_to'],\n",
       "      dtype='object')"
      ]
     },
     "execution_count": 12,
     "metadata": {},
     "output_type": "execute_result"
    }
   ],
   "source": [
    "jan_df.keys()"
   ]
  },
  {
   "cell_type": "markdown",
   "metadata": {},
   "source": [
    "# Analysis"
   ]
  },
  {
   "cell_type": "code",
   "execution_count": 41,
   "metadata": {},
   "outputs": [],
   "source": [
    "# df['polarity'] = df['tweet'].apply(lambda x: TextBlob(x).sentiment.polarity)\n",
    "# df['subjectivity'] = df['tweet'].apply(lambda x: TextBlob(x).sentiment.subjectivity)"
   ]
  },
  {
   "cell_type": "code",
   "execution_count": 42,
   "metadata": {},
   "outputs": [],
   "source": [
    "# df['polarity'].describe()"
   ]
  },
  {
   "cell_type": "code",
   "execution_count": 43,
   "metadata": {},
   "outputs": [],
   "source": [
    "# df['subjectivity'].describe()"
   ]
  }
 ],
 "metadata": {
  "kernelspec": {
   "display_name": "Python 3",
   "language": "python",
   "name": "python3"
  },
  "language_info": {
   "codemirror_mode": {
    "name": "ipython",
    "version": 3
   },
   "file_extension": ".py",
   "mimetype": "text/x-python",
   "name": "python",
   "nbconvert_exporter": "python",
   "pygments_lexer": "ipython3",
   "version": "3.6.9"
  }
 },
 "nbformat": 4,
 "nbformat_minor": 4
}
